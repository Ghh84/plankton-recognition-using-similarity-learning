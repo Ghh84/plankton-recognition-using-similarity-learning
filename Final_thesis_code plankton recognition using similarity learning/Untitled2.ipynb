{
 "cells": [
  {
   "cell_type": "code",
   "execution_count": null,
   "id": "related-studio",
   "metadata": {},
   "outputs": [],
   "source": [
    "\n",
    "        #base_model = MobileNetV2(input_shape=(224,224,3),include_top=False, weights='imagenet')\n",
    "        preprocess_input = tf.keras.applications.mobilenet_v2.preprocess_input\n",
    "        global_average_layer = tf.keras.layers.GlobalAveragePooling2D()\n",
    "        base_model.trainable = False\n",
    "        #net =base_model.output\n",
    "        inputs = tf.keras.Input(shape=(224, 224, 3))\n",
    "        #net= data_augmentation(inputs)\n",
    "        net = preprocess_input(inputs)\n",
    "        net = base_model(net, training=False)\n",
    "        net = global_average_layer(net)\n",
    "        net = tf.keras.layers.Dropout(0.2)(net)\n",
    "        net = tf.keras.layers.Dense(4096, activation='relu', kernel_regularizer=l2(1e-2), kernel_initializer='he_uniform')(net)\n",
    "        net = tf.keras.layers.Dense(embeddingsize, activation=None, kernel_regularizer=l2(1e-2), kernel_initializer='he_uniform')(net)\n",
    "        #Force the encoding to live on the d-dimentional hypershpere\n",
    "        net = tf.keras.layers.Lambda(lambda x: K.l2_normalize(x,axis=-1))(net)\n",
    "        base_model =tf.keras.Model(inputs, net, name='tuned_model')\n",
    "\n",
    "        #base_model.trainable = True\n",
    "        # Let's take a look to see how many layers are in the base model\n",
    "        print(\"Number of layers in the base model: \", len(base_model.layers))\n",
    "        len(base_model.trainable_variables)\n",
    "\n",
    "        # Let's take a look to see how many layers are in the base model\n",
    "        # Fine-tune from this layer onwards\n",
    "        #fine_tune_at = 100\n",
    "        # Freeze all the layers before the `fine_tune_at` layer\n",
    "        #for layer in base_model.layers[:fine_tune_at]:\n",
    "         #   layer.trainable =  False\n",
    "             \n",
    "        #base_model =tf.keras.Model(resnet_model.input, output, name='tuned_model')"
   ]
  },
  {
   "cell_type": "code",
   "execution_count": null,
   "id": "related-builder",
   "metadata": {},
   "outputs": [],
   "source": [
    "# Allow memory growth for the GPU\n",
    "# physical_devices = tf.config.experimental.list_physical_devices('GPU')\n",
    "# tf.config.experimental.set_memory_growth(physical_devices[0], True)"
   ]
  },
  {
   "cell_type": "code",
   "execution_count": null,
   "id": "accomplished-preview",
   "metadata": {},
   "outputs": [],
   "source": [
    "#def l2Norm(x):\n",
    " #       return  K.l2_normalize(x, axis=-1)\n",
    "#def triplet_loss(y_true, y_pred):\n",
    " #   margin = K.constant(0.02)\n",
    "  #  return K.mean(K.maximum(K.constant(0), K.square(y_pred[:,0,0]) - K.square(y_pred[:,1,0]) + margin))\n",
    "#def accuracy(y_true, y_pred):\n",
    " #   return K.mean(y_pred[:,0,0] < y_pred[:,1,0])\n",
    "#def euclidean_distance(vects):\n",
    " #   x, y = vects\n",
    "  #  return K.sqrt(K.maximum(K.sum(K.square(x - y), axis=1, keepdims=True), K.epsilon()))"
   ]
  },
  {
   "cell_type": "code",
   "execution_count": null,
   "id": "emerging-warehouse",
   "metadata": {},
   "outputs": [],
   "source": [
    "        # add a global spatial average pooling layer\n",
    "        #x = base_model.output\n",
    "        #x = GlobalAveragePooling2D()(x)\n",
    "        # let's add a fully-connected layer\n",
    "        #x = Dense(1024, activation='relu')(x)\n",
    "        # and a logistic layer -- let's say we have 200 classes\n",
    "        #predictions = Dense(200, activation='softmax')(x)\n",
    "        # this is the model we will train\n",
    "        #model = Model(inputs=base_model.input, outputs=predictions)"
   ]
  },
  {
   "cell_type": "code",
   "execution_count": null,
   "id": "d9ff283e-c7bc-42f0-adc0-f2c5732fc531",
   "metadata": {},
   "outputs": [],
   "source": []
  },
  {
   "cell_type": "code",
   "execution_count": null,
   "id": "4af7ecc9-f788-4de7-8fc3-e48462510bef",
   "metadata": {},
   "outputs": [],
   "source": [
    "from tensorflow.keras.preprocessing import image\n",
    "from tensorflow.keras.applications.vgg16 import VGG16\n",
    "from tensorflow.keras.applications.vgg16 import preprocess_input\n",
    "import numpy as np\n",
    "base_model = VGG16(input_shape=input_shape,weights='imagenet', include_top=False)\n",
    "net =base_model.output\n",
    "net = tf.keras.layers.Dropout(0.5)(net)\n",
    "net = tf.keras.layers.Flatten(name='new_flatten')(net) \n",
    "net = tf.keras.layers.Dense(4096, activation='relu', kernel_regularizer=l2(1e-3), \n",
    "                            kernel_initializer='he_uniform',name='new_fc')(net)\n",
    "net = tf.keras.layers.Dense(embeddingsize, activation=None, kernel_regularizer=l2(1e-3), \n",
    "                            kernel_initializer='he_uniform', name='new_fc2')(net)\n",
    "#Force the encoding to live on the d-dimentional hypershpere\n",
    "net = tf.keras.layers.Lambda(lambda x: K.l2_normalize(x,axis=-1),name='lamda')(net)\n",
    "base_model =tf.keras.Model(base_model.input, net, name='tuned_model')\n",
    "#base_model.trainable = False\n",
    "# Let's take a look to see how many layers are in the base model\n",
    "# Fine-tune from this layer onwards\n",
    "fine_tune_at = 18\n",
    "# Freeze all the layers before the `fine_tune_at` layer\n",
    "for layer in base_model.layers[:fine_tune_at]:\n",
    "    layer.trainable =  False\n",
    "    "
   ]
  },
  {
   "cell_type": "code",
   "execution_count": null,
   "id": "1868e1bf-8de3-4c93-bfb0-2e3d50c21182",
   "metadata": {},
   "outputs": [],
   "source": []
  },
  {
   "cell_type": "code",
   "execution_count": null,
   "id": "155c24c4-5d4c-4712-b7d2-6e645a7814c9",
   "metadata": {},
   "outputs": [],
   "source": [
    "    elif(name==\"mobileNet\"):\n",
    "        # Create the base model from the pre-trained model MobileNet V2\n",
    "        from tensorflow.keras.applications import MobileNetV2\n",
    "        base_model = tf.keras.applications.MobileNetV2(input_shape=input_shape, include_top=False, weights='imagenet')\n",
    "        embeddingsize=50\n",
    "        #net =base_model.output\n",
    "        net= base_model.layers[-1].output \n",
    "        net = tf.keras.layers.GlobalAveragePooling2D()(net) \n",
    "        #net = tf.keras.layers.Dense(1024, activation='relu', kernel_regularizer=l2(1e-3), \n",
    "                                    #kernel_initializer='he_uniform')(net)\n",
    "        net = tf.keras.layers.Dense(embeddingsize, activation=None, kernel_regularizer=l2(1e-3), \n",
    "                                    kernel_initializer='he_uniform')(net)\n",
    "        net = tf.keras.layers.Dropout(0.2)(net)\n",
    "        #Force the encoding to live on the d-dimentional hypershpere\n",
    "        net = tf.keras.layers.Lambda(lambda x: K.l2_normalize(x,axis=-1))(net)\n",
    "        base_model =tf.keras.Model(base_model.input, net, name='tuned_model')\n",
    "        base_model.trainable = True\n",
    "        # Let's take a look to see how many layers are in the base model\n",
    "        # Fine-tune from this layer onwards\n",
    "        fine_tune_at = 100\n",
    "        # Freeze all the layers before the `fine_tune_at` layer\n",
    "        for layer in base_model.layers[:fine_tune_at]:\n",
    "                layer.trainable =  False"
   ]
  },
  {
   "cell_type": "code",
   "execution_count": null,
   "id": "62cd7c7e-6618-4f07-a541-f07609e65157",
   "metadata": {},
   "outputs": [],
   "source": [
    "import matplotlib.pyplot as plt\n",
    "import skimage.io\n",
    "classes = load_classes(networkConfig.data_location, networkConfig.extend, networkConfig.min_samples)\n",
    "train_dir = os.path.join(networkConfig.data_location)\n",
    "k=1\n",
    "for i, cl in enumerate(classes):\n",
    "        dir = os.path.join(train_dir, cl)\n",
    "        files = [f for f in os.listdir(dir) if f.endswith(networkConfig.extend)]\n",
    "        for file in files:\n",
    "            # stopping condition\n",
    "            image = skimage.io.imread(os.path.join(dir, file))\n",
    "            fig=plt.figure(figsize=(6,8))\n",
    "            subplot = fig.add_subplot(1,k+1,1)\n",
    "            #axis(\"off\")\n",
    "            plotidx = 2\n",
    "            #Draw this image\n",
    "            plt.imshow(image,cmap='Greys')\n",
    "            break;\n",
    "            k=k+1"
   ]
  }
 ],
 "metadata": {
  "kernelspec": {
   "display_name": "Python 3",
   "language": "python",
   "name": "python3"
  },
  "language_info": {
   "codemirror_mode": {
    "name": "ipython",
    "version": 3
   },
   "file_extension": ".py",
   "mimetype": "text/x-python",
   "name": "python",
   "nbconvert_exporter": "python",
   "pygments_lexer": "ipython3",
   "version": "3.8.8"
  }
 },
 "nbformat": 4,
 "nbformat_minor": 5
}
